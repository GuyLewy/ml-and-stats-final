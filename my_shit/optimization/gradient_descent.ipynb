{
 "cells": [
  {
   "cell_type": "markdown",
   "id": "00462f84",
   "metadata": {},
   "source": [
    "## Gradient Descent\n",
    "\n",
    "First we need to find the gradient of the function that we want to minimize. To do this we take the partial derivitives with respect to each variable.\n",
    "\n",
    "e.g. $f(x,y) = \\frac{1}{2}(25-xy)^2 + x^2 + y^2$\n",
    "\n",
    "then we have $\\frac{\\partial f}{\\partial x} = (25 - xy)(-y) + 2x$ and $\\frac{\\partial f}{\\partial y} = (25 - xy)(-x) + 2y$"
   ]
  },
  {
   "cell_type": "code",
   "execution_count": 17,
   "id": "20a37125",
   "metadata": {},
   "outputs": [],
   "source": [
    "import numpy as np\n",
    "\n",
    "# Edit parameters to match question\n",
    "\n",
    "x_0 = [2, 0]\n",
    "\n",
    "def d_f_x(x):\n",
    "    return (25 - x[0] * x[1]) * -1 * x[1] + 2 * x[0]\n",
    "\n",
    "def d_f_y(x):\n",
    "    return 25 - (x[0] * x[1]) * -1 * x[0] + 2 * x[1]\n",
    "\n",
    "step_size = 0.05\n",
    "\n",
    "steps = 2"
   ]
  },
  {
   "cell_type": "code",
   "execution_count": 18,
   "id": "9a6a9570",
   "metadata": {},
   "outputs": [
    {
     "name": "stdout",
     "output_type": "stream",
     "text": [
      "delta_f(x_0, y_0) = [4, 25]\n"
     ]
    }
   ],
   "source": [
    "print(f\"delta_f(x_0, y_0) = {[ d_f_x(x_0),  d_f_y(x_0)]}\")"
   ]
  },
  {
   "cell_type": "code",
   "execution_count": null,
   "id": "cbff72f4",
   "metadata": {},
   "outputs": [
    {
     "name": "stdout",
     "output_type": "stream",
     "text": [
      "x at step 1: [1.8, -1.25]\n",
      "x at step 2: [1.6, -2.5]\n"
     ]
    }
   ],
   "source": [
    "x = x_0\n",
    "for i in range(1, steps + 1):\n",
    "    x = [x[0] - step_size * d_f_x(x), x[1] - step_size * d_f_y(x)]\n",
    "    print(f\"x at step {i}: {x}\")\n"
   ]
  }
 ],
 "metadata": {
  "kernelspec": {
   "display_name": ".venv",
   "language": "python",
   "name": "python3"
  },
  "language_info": {
   "codemirror_mode": {
    "name": "ipython",
    "version": 3
   },
   "file_extension": ".py",
   "mimetype": "text/x-python",
   "name": "python",
   "nbconvert_exporter": "python",
   "pygments_lexer": "ipython3",
   "version": "3.12.10"
  }
 },
 "nbformat": 4,
 "nbformat_minor": 5
}
