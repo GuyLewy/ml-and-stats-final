{
 "cells": [
  {
   "cell_type": "markdown",
   "id": "c9e178b1",
   "metadata": {},
   "source": [
    "## Coordinate Descent\n",
    "\n",
    "**Coordinate Descent** is an optimization algorithm used to minimize a multivariate function by iteratively optimizing one coordinate (variable) at a time, while keeping the others fixed.\n",
    "\n",
    "### **Algorithm Steps**\n",
    "1. **Initialize** the starting point $\\mathbf{x}_0$.\n",
    "2. **Repeat** for a fixed number of iterations or until convergence:\n",
    "    - For each coordinate $i$ (from 1 to $d$):\n",
    "        - Update $x_i$ by minimizing the function with respect to $x_i$, keeping all other coordinates fixed:\n",
    "          \n",
    "          $x_i^{(t+1)} \\leftarrow \\arg\\min_{x_i} f(x_1^{(t+1)}, \\ldots, x_{i-1}^{(t+1)}, x_i, x_{i+1}^{(t)}, \\ldots, x_d^{(t)})$\n",
    "3. **Return** the final $\\mathbf{x}$ as the solution.\n",
    "\n",
    "### **Key Points**\n",
    "- Only one variable is updated at each step, making the method simple and often efficient for high-dimensional problems.\n",
    "- Works well when each subproblem (minimizing with respect to a single variable) is easy to solve.\n",
    "- Commonly used for problems where the function is separable or partially separable.\n",
    "\n",
    "### **Applications**\n",
    "- Lasso regression\n",
    "- Sparse coding\n",
    "- Some machine learning and signal processing problems\n",
    "\n",
    "Coordinate descent is especially useful when the function is convex and the minimization with respect to each coordinate can be done\n",
    "\n",
    "To solve this, follow these steps for each coordinate $x_i$:\n",
    "\n",
    "Fix all coordinates except one.\n",
    "For example, to find $\\arg\\min_{x_1} f(x)$ at $x = (4, 3, 2)$, set $x_2 = 3$, $x_3 = 2$, and only vary $x_1$.\n",
    "\n",
    "Write $f(x)$ as a function of the single variable.\n",
    "Substitute the fixed values into $f(x)$, so you get a function of just $x_1$, $x_2$, or $x_3$.\n",
    "\n",
    "Take the derivative with respect to that variable.\n",
    "For example, for $x_1$: $$ f(x_1) = \\exp(x_1 - 3 \\cdot 3 + 3) + \\exp(3 \\cdot 3 - 2 \\cdot 2 - 2) + \\exp(2 \\cdot 2 - x_1 + 2) $$ $$ = \\exp(x_1 - 6) + \\exp(3) + \\exp(6 - x_1) $$\n",
    "\n",
    "The derivative is: $$ \\frac{d}{dx_1} f(x_1) = \\exp(x_1 - 6) - \\exp(6 - x_1) $$\n",
    "\n",
    "Set the derivative to zero and solve for the variable. $$ \\exp(x_1 - 6) = \\exp(6 - x_1) $$ $$ x_1 - 6 = 6 - x_1 $$ $$ 2x_1 = 12 \\implies x_1 = 6 $$\n",
    "\n",
    "Repeat for $x_2$ and $x_3$:\n",
    "\n",
    "For $x_2$, fix $x_1 = 4$, $x_3 = 2$, write $f(x_2)$, take derivative, set to zero, solve for $x_2$.\n",
    "For $x_3$, fix $x_1 = 4$, $x_2 = 3$, write $f(x_3)$, take derivative, set to zero, solve for $x_3$.\n",
    "\n",
    "Summary:\n",
    "\n",
    "Fix all variables except one.\n",
    "Minimize $f$ with respect to that variable (analytically if possible).\n",
    "This gives you the coordinate-wise minimizer for each variable."
   ]
  },
  {
   "cell_type": "code",
   "execution_count": 1,
   "id": "bcef7c17",
   "metadata": {},
   "outputs": [],
   "source": [
    "import math\n",
    "\n",
    "x0 = (5, 25, 1)\n",
    "max_iters = 25\n",
    "\n",
    "\n",
    "def f(x):\n",
    "    x1, x2, x3 = x\n",
    "    return (\n",
    "        math.exp(x1 - 3 * x2 + 3)\n",
    "        + math.exp(3 * x2 - 2 * x3 - 2)\n",
    "        + math.exp(2 * x3 - x1 + 2)\n",
    "    )\n",
    "\n",
    "\n",
    "# Partial derivative with respect to x1 set equal to 0 then iscolating for x1\n",
    "def argmin_x1(x):\n",
    "    x1, x2, x3 = x\n",
    "    return 3 / 2 * x2 + x3 - 1 / 2\n",
    "\n",
    "\n",
    "# Partial derivative with respect to x2 set equal to 0 then iscolating for x2\n",
    "def argmin_x2(x):\n",
    "    x1, x2, x3 = x\n",
    "    return 1 / 6 * x1 + 1 / 3 * x3 + 5 / 6\n",
    "\n",
    "\n",
    "# Partial derivative with respect to x3 set equal to 0 then iscolating for x3\n",
    "def argmin_x3(x):\n",
    "    x1, x2, x3 = x\n",
    "    return 1 / 4 * x1 + 3 / 4 * x2 - 1\n",
    "\n",
    "\n",
    "def coordinate_descent(f, argmin, x0, max_iter=100, verbose=False):\n",
    "    x = list(x0)\n",
    "    for i in range(max_iter):\n",
    "        for j in range(len(argmin)):\n",
    "            x[j] = argmin[j](x)\n",
    "    return tuple(x)\n"
   ]
  },
  {
   "cell_type": "code",
   "execution_count": 2,
   "id": "159c06a0",
   "metadata": {},
   "outputs": [
    {
     "name": "stdout",
     "output_type": "stream",
     "text": [
      "6.0\n",
      "2.1666666666666665\n",
      "2.25\n",
      "(26.666666666666664, 9.555555555555555, 12.833333333333332) 8.154845485377136\n"
     ]
    }
   ],
   "source": [
    "print(argmin_x1((4, 3, 2)))\n",
    "print(argmin_x2((4, 3, 2)))\n",
    "print(argmin_x3((4, 3, 2)))\n",
    "\n",
    "x = coordinate_descent(f, [argmin_x1, argmin_x2, argmin_x3], (1, 20, 5), max_iters)\n",
    "print(x, f(x))\n"
   ]
  }
 ],
 "metadata": {
  "kernelspec": {
   "display_name": ".venv",
   "language": "python",
   "name": "python3"
  },
  "language_info": {
   "codemirror_mode": {
    "name": "ipython",
    "version": 3
   },
   "file_extension": ".py",
   "mimetype": "text/x-python",
   "name": "python",
   "nbconvert_exporter": "python",
   "pygments_lexer": "ipython3",
   "version": "3.12.10"
  }
 },
 "nbformat": 4,
 "nbformat_minor": 5
}
