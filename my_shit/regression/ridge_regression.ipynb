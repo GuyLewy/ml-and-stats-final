{
 "cells": [
  {
   "cell_type": "markdown",
   "id": "6f23b1d4",
   "metadata": {},
   "source": [
    "## Gradient Descent\n",
    "\n",
    "First we need to create the design matrix.\n",
    "\n",
    "If we have a polynomial of degree $d$ in $n$ variables, the design matrix $D$ is constructed by taking all combinations of the variables raised to powers that sum to at most $d$.\n",
    "\n",
    "D = np.array([[-1,0],[1,3],[2,1],[2,2],[0,4]])\n",
    "\n",
    "y = np.array([-1,2,0.5,1,4])\n",
    "\n",
    "e.g. $f(x) = \\beta_3x_1^2+\\beta_2x_1x_2+\\beta_1x_2^2+\\beta_0$\n",
    "\n",
    "then we have $D = \n",
    "\\begin{bmatrix}\n",
    "1 & 0 & 0 & 1 \\\\\n",
    "1 & 3 & 9 & 1 \\\\\n",
    "4 & 2 & 1 & 1 \\\\\n",
    "4 & 4 & 4 & 1 \\\\\n",
    "0 & 0 & 16 & 1 \\\\\n",
    "\\end{bmatrix}\n",
    "$\n"
   ]
  },
  {
   "cell_type": "code",
   "execution_count": 1,
   "id": "fc050fc3",
   "metadata": {},
   "outputs": [],
   "source": [
    "import numpy as np"
   ]
  },
  {
   "cell_type": "code",
   "execution_count": 2,
   "id": "1849d5f6",
   "metadata": {},
   "outputs": [],
   "source": [
    "# Given data\n",
    "D = np.array([[-1, 0], [1, 3], [2, 1], [2, 2], [0, 4]])\n",
    "y = np.array([-1, 2, 0.5, 1, 4])\n",
    "\n",
    "# Build design matrix\n",
    "X = np.column_stack(\n",
    "    [\n",
    "        D[:, 0] ** 2,  # x1^2\n",
    "        D[:, 0] * D[:, 1],  # x1*x2\n",
    "        D[:, 1] ** 2,  # x2^2\n",
    "        np.ones(D.shape[0]),  # intercept\n",
    "    ]\n",
    ")"
   ]
  },
  {
   "cell_type": "code",
   "execution_count": null,
   "id": "2882af99",
   "metadata": {},
   "outputs": [
    {
     "name": "stdout",
     "output_type": "stream",
     "text": [
      "beta: [ 0.34865114 -0.06663592  0.33165783 -1.26730459]\n",
      "RSS: 0.09151487203135802\n"
     ]
    }
   ],
   "source": [
    "# Solve for beta\n",
    "beta = np.linalg.inv(X.T @ X) @ X.T @ y\n",
    "\n",
    "# Compute RSS\n",
    "rss = np.sum((y - X @ beta) ** 2)\n",
    "\n",
    "print(\"beta:\", beta) # Highest to lowest i in B_i\n",
    "print(\"RSS:\", rss)"
   ]
  }
 ],
 "metadata": {
  "kernelspec": {
   "display_name": ".venv",
   "language": "python",
   "name": "python3"
  },
  "language_info": {
   "codemirror_mode": {
    "name": "ipython",
    "version": 3
   },
   "file_extension": ".py",
   "mimetype": "text/x-python",
   "name": "python",
   "nbconvert_exporter": "python",
   "pygments_lexer": "ipython3",
   "version": "3.12.10"
  }
 },
 "nbformat": 4,
 "nbformat_minor": 5
}
