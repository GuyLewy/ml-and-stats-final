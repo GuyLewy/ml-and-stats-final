{
 "cells": [
  {
   "cell_type": "markdown",
   "id": "6a83d296",
   "metadata": {},
   "source": [
    "## Backpropagation\n",
    "\n"
   ]
  },
  {
   "cell_type": "markdown",
   "id": "7fdc2314",
   "metadata": {},
   "source": [
    "### Gradients in a Two-Layer Neural Network\n",
    "\n",
    "For the network:\n",
    "$\n",
    "f(x; \\mathbf{w}) = \\text{softmax}(\\mathbf{W}_2 \\, \\text{ReLU}(\\mathbf{W}_1 x + \\mathbf{b}_1) + \\mathbf{b}_2)\n",
    "$\n",
    "\n",
    "#### Gradient with respect to \\( $\\mathbf{b}_1$ \\):\n",
    "\n",
    "$\n",
    "\\frac{\\partial \\text{CE}(y, f(x, w))}{\\partial \\mathbf{b}_1} = \n",
    "\\frac{\\partial \\text{CE}}{\\partial f} \\cdot\n",
    "\\frac{\\partial f}{\\partial h_2} \\cdot\n",
    "\\frac{\\partial h_2}{\\partial h_1} \\cdot\n",
    "\\frac{\\partial h_1}{\\partial \\mathbf{b}_1}\n",
    "$\n",
    "\n",
    "#### Gradient with respect to \\( $\\mathbf{W}_2$ \\):\n",
    "\n",
    "$\n",
    "\\frac{\\partial \\text{CE}(y, f(x, w))}{\\partial \\mathbf{W}_2} = \n",
    "\\frac{\\partial \\text{CE}}{\\partial f} \\cdot\n",
    "\\frac{\\partial f}{\\partial h_2} \\cdot\n",
    "\\frac{\\partial h_2}{\\partial \\mathbf{W}_2}\n",
    "$"
   ]
  }
 ],
 "metadata": {
  "language_info": {
   "name": "python"
  }
 },
 "nbformat": 4,
 "nbformat_minor": 5
}
