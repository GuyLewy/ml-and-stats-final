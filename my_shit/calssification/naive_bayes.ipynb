{
 "cells": [
  {
   "cell_type": "markdown",
   "id": "34620845",
   "metadata": {},
   "source": [
    "## Naive Bayes\n",
    "\n",
    "Take the following dataset and implement a Naive Bayes classifier.\n",
    "\n",
    "| evolution 1 (E1) | type 1 (T1) | evolution 2 (E2) | type 2 (T2) | winning pokemon (Y) |\n",
    "| ---------------- | ----------- | ---------------- | ----------- | ------------------- |\n",
    "| 1                | grass       | 1                | electric    | 1                   |\n",
    "| 2                | water       | 2                | fire        | 2                   |\n",
    "| 1                | grass       | 1                | grass       | 1                   |\n",
    "| 2                | fire        | 1                | electric    | 1                   |\n"
   ]
  },
  {
   "cell_type": "code",
   "execution_count": 3,
   "id": "ddd366fe",
   "metadata": {},
   "outputs": [],
   "source": [
    "import numpy as np"
   ]
  },
  {
   "cell_type": "markdown",
   "id": "c16892d8",
   "metadata": {},
   "source": [
    "1. What are the probabilities $p⁢(E1=1 | Y)$ and $p⁢(E1=1,T1=w⁢a⁢t⁢e⁢r,E2=1,T2=g⁡r⁢a⁢s⁢s∣Y)$ for both classes according to the naive Bayes assumption with Laplace smoothing with parameter $\\alpha=1$?\n",
    "\n",
    "We know $P(y|x)=\\frac{P(x|y)p(y)}{p(x)}$ and $p(x|y) = p(x_1|y) \\cdot p(x_2|y) \\cdot ... \\cdot p(x_n|y)$\n"
   ]
  },
  {
   "cell_type": "markdown",
   "id": "c4d6598d",
   "metadata": {},
   "source": [
    "a. $log(p(E1=1 | Y = 1))$\n",
    "\n",
    "b. $log(p(E1=1 | Y = 2))$\n",
    "\n",
    "c. $log(p(E1=1,T1=\\text{water},E2=1,T2=\\text{Grass} | Y = 1))$\n",
    "\n",
    "d. $log(p(E1=1,T1=\\text{water},E2=1,T2=\\text{Grass} | Y = 2))$\n"
   ]
  },
  {
   "cell_type": "code",
   "execution_count": 20,
   "id": "5e3b2f8f",
   "metadata": {},
   "outputs": [
    {
     "data": {
      "text/plain": [
       "(np.float64(-0.5108256237659907),\n",
       " np.float64(-1.0986122886681098),\n",
       " np.float64(-3.932642292630882),\n",
       " np.float64(-4.722953221644475))"
      ]
     },
     "execution_count": 20,
     "metadata": {},
     "output_type": "execute_result"
    }
   ],
   "source": [
    "alpha = 1\n",
    "\n",
    "a = np.log((2 + alpha) / (3 + alpha * 2))\n",
    "b = np.log((0 + alpha) / (1 + alpha * 2))\n",
    "\n",
    "c = np.log(\n",
    "    ((2 + alpha) / (3 + alpha * 2))\n",
    "    * ((0 + alpha) / (3 + alpha * 4))\n",
    "    * ((3 + alpha) / (3 + alpha * 2))\n",
    "    * ((1 + alpha) / (3 + alpha * 4))\n",
    ")\n",
    "\n",
    "d = np.log(\n",
    "    ((0 + alpha) / (1 + alpha * 2))\n",
    "    * ((1 + alpha) / (1 + alpha * 4))\n",
    "    * ((0 + alpha) / (1 + alpha * 2))\n",
    "    * ((0 + alpha) / (1 + alpha * 4))\n",
    ")\n",
    "\n",
    "a, b, c, d"
   ]
  },
  {
   "cell_type": "markdown",
   "id": "04217c55",
   "metadata": {},
   "source": [
    "2. Given:\n",
    "$$p(x^*|Y=1)=0.7$$\n",
    "$$p(x^*|Y=2)=0.3$$\n",
    "\n",
    "Find:\n",
    "\n",
    "a. $p(Y=1|x^*)p(x^*)$\n",
    "\n",
    "b. $p(Y=2|x^*)p(x^*)$"
   ]
  },
  {
   "cell_type": "markdown",
   "id": "fbeee9ff",
   "metadata": {},
   "source": [
    "a.\n",
    "\n",
    "$p(Y=1|x^*) = \\frac{p(x^* | Y = 1)}{p(Y=1)p(x^*)}$\n",
    "\n",
    "$p(Y=1|x^*)p(x^*) = p(x^* | Y = 1)p(Y=1) = 0.7 \\cdot 0.75 = 0.525$\n",
    "\n",
    "b.\n",
    "\n",
    "$p(Y=2|x^*) = \\frac{p(x^* | Y = 2)}{p(Y=2)p(x^*)}$\n",
    "\n",
    "$p(Y=2|x^*)p(x^*) = p(x^* | Y = 2)p(Y=2)= 0.3 \\cdot 0.25 = 0.075$\n",
    "\n"
   ]
  }
 ],
 "metadata": {
  "kernelspec": {
   "display_name": ".venv",
   "language": "python",
   "name": "python3"
  },
  "language_info": {
   "codemirror_mode": {
    "name": "ipython",
    "version": 3
   },
   "file_extension": ".py",
   "mimetype": "text/x-python",
   "name": "python",
   "nbconvert_exporter": "python",
   "pygments_lexer": "ipython3",
   "version": "3.12.10"
  }
 },
 "nbformat": 4,
 "nbformat_minor": 5
}
